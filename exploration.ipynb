{
 "cells": [
  {
   "cell_type": "code",
   "execution_count": 1,
   "metadata": {},
   "outputs": [],
   "source": [
    "import numpy as np\n",
    "import pandas as pd\n",
    "import matplotlib.pyplot as plt"
   ]
  },
  {
   "cell_type": "code",
   "execution_count": 2,
   "metadata": {},
   "outputs": [],
   "source": [
    "patient = pd.read_csv(\"patient.csv\")"
   ]
  },
  {
   "cell_type": "code",
   "execution_count": 3,
   "metadata": {},
   "outputs": [
    {
     "data": {
      "text/plain": [
       "(868, 24)"
      ]
     },
     "execution_count": 3,
     "metadata": {},
     "output_type": "execute_result"
    }
   ],
   "source": [
    "patient.shape"
   ]
  },
  {
   "cell_type": "code",
   "execution_count": 4,
   "metadata": {},
   "outputs": [
    {
     "data": {
      "text/plain": [
       "Index(['id', 'first_name', 'last_name', 'patient_id', 'old_id',\n",
       "       'date_of_birth', 'sex', 'ethnicity', 'country', 'language', 'insurance',\n",
       "       'address_line_1', 'address_line_2', 'city', 'state', 'zipcode',\n",
       "       'phone_primary', 'phone_secondary', 'email', 'created_at', 'updated_at',\n",
       "       'other_language', 'other_country', 'organization_id'],\n",
       "      dtype='object')"
      ]
     },
     "execution_count": 4,
     "metadata": {},
     "output_type": "execute_result"
    }
   ],
   "source": [
    "patient.columns"
   ]
  },
  {
   "cell_type": "code",
   "execution_count": 5,
   "metadata": {},
   "outputs": [],
   "source": [
    "patient = patient.drop(['id', 'first_name', 'last_name', 'patient_id', 'old_id',\n",
    "              'address_line_1', 'address_line_2', 'phone_primary', 'phone_secondary', \n",
    "              'email', 'updated_at', 'organization_id'], axis=1)"
   ]
  },
  {
   "cell_type": "code",
   "execution_count": 6,
   "metadata": {},
   "outputs": [
    {
     "name": "stdout",
     "output_type": "stream",
     "text": [
      "<class 'pandas.core.frame.DataFrame'>\n",
      "RangeIndex: 868 entries, 0 to 867\n",
      "Data columns (total 12 columns):\n",
      "date_of_birth     868 non-null object\n",
      "sex               868 non-null object\n",
      "ethnicity         792 non-null object\n",
      "country           868 non-null object\n",
      "language          868 non-null object\n",
      "insurance         868 non-null object\n",
      "city              868 non-null object\n",
      "state             868 non-null object\n",
      "zipcode           868 non-null object\n",
      "created_at        868 non-null object\n",
      "other_language    58 non-null object\n",
      "other_country     73 non-null object\n",
      "dtypes: object(12)\n",
      "memory usage: 81.5+ KB\n"
     ]
    }
   ],
   "source": [
    "patient.info()"
   ]
  },
  {
   "cell_type": "code",
   "execution_count": 7,
   "metadata": {},
   "outputs": [
    {
     "data": {
      "text/html": [
       "<div>\n",
       "<style scoped>\n",
       "    .dataframe tbody tr th:only-of-type {\n",
       "        vertical-align: middle;\n",
       "    }\n",
       "\n",
       "    .dataframe tbody tr th {\n",
       "        vertical-align: top;\n",
       "    }\n",
       "\n",
       "    .dataframe thead th {\n",
       "        text-align: right;\n",
       "    }\n",
       "</style>\n",
       "<table border=\"1\" class=\"dataframe\">\n",
       "  <thead>\n",
       "    <tr style=\"text-align: right;\">\n",
       "      <th></th>\n",
       "      <th>date_of_birth</th>\n",
       "      <th>sex</th>\n",
       "      <th>ethnicity</th>\n",
       "      <th>country</th>\n",
       "      <th>language</th>\n",
       "      <th>insurance</th>\n",
       "      <th>city</th>\n",
       "      <th>state</th>\n",
       "      <th>zipcode</th>\n",
       "      <th>created_at</th>\n",
       "      <th>other_language</th>\n",
       "      <th>other_country</th>\n",
       "    </tr>\n",
       "  </thead>\n",
       "  <tbody>\n",
       "    <tr>\n",
       "      <th>813</th>\n",
       "      <td>1950-04-29</td>\n",
       "      <td>F</td>\n",
       "      <td>HI</td>\n",
       "      <td>ME</td>\n",
       "      <td>SP</td>\n",
       "      <td>NO</td>\n",
       "      <td>Milwaukee</td>\n",
       "      <td>Wisconsin</td>\n",
       "      <td>53215</td>\n",
       "      <td>2019-05-28 16:00:52.796599+00:00</td>\n",
       "      <td>NaN</td>\n",
       "      <td>NaN</td>\n",
       "    </tr>\n",
       "    <tr>\n",
       "      <th>732</th>\n",
       "      <td>1959-08-07</td>\n",
       "      <td>F</td>\n",
       "      <td>NaN</td>\n",
       "      <td>US</td>\n",
       "      <td>EN</td>\n",
       "      <td>MM</td>\n",
       "      <td>Oak Creek</td>\n",
       "      <td>WI</td>\n",
       "      <td>53154</td>\n",
       "      <td>2019-04-17 16:27:12.926395+00:00</td>\n",
       "      <td>NaN</td>\n",
       "      <td>NaN</td>\n",
       "    </tr>\n",
       "    <tr>\n",
       "      <th>588</th>\n",
       "      <td>1962-05-19</td>\n",
       "      <td>F</td>\n",
       "      <td>BL</td>\n",
       "      <td>US</td>\n",
       "      <td>EN</td>\n",
       "      <td>PR</td>\n",
       "      <td>Milwaukee</td>\n",
       "      <td>Wisconsin</td>\n",
       "      <td>53206</td>\n",
       "      <td>2019-01-15 16:29:01.652840+00:00</td>\n",
       "      <td>NaN</td>\n",
       "      <td>NaN</td>\n",
       "    </tr>\n",
       "    <tr>\n",
       "      <th>174</th>\n",
       "      <td>1968-04-09</td>\n",
       "      <td>M</td>\n",
       "      <td>HI</td>\n",
       "      <td>ME</td>\n",
       "      <td>SP</td>\n",
       "      <td>NO</td>\n",
       "      <td>Milwaukee</td>\n",
       "      <td>WI</td>\n",
       "      <td>53215</td>\n",
       "      <td>2018-04-05 19:03:00.351587+00:00</td>\n",
       "      <td>NaN</td>\n",
       "      <td>NaN</td>\n",
       "    </tr>\n",
       "    <tr>\n",
       "      <th>455</th>\n",
       "      <td>1958-06-17</td>\n",
       "      <td>M</td>\n",
       "      <td>BL</td>\n",
       "      <td>US</td>\n",
       "      <td>EN</td>\n",
       "      <td>IN</td>\n",
       "      <td>Milwaukee</td>\n",
       "      <td>WI</td>\n",
       "      <td>53210</td>\n",
       "      <td>2018-09-22 14:00:46.103952+00:00</td>\n",
       "      <td>NaN</td>\n",
       "      <td>NaN</td>\n",
       "    </tr>\n",
       "  </tbody>\n",
       "</table>\n",
       "</div>"
      ],
      "text/plain": [
       "    date_of_birth sex ethnicity country language insurance       city  \\\n",
       "813    1950-04-29   F        HI      ME       SP        NO  Milwaukee   \n",
       "732    1959-08-07   F       NaN      US       EN        MM  Oak Creek   \n",
       "588    1962-05-19   F        BL      US       EN        PR  Milwaukee   \n",
       "174    1968-04-09   M        HI      ME       SP        NO  Milwaukee   \n",
       "455    1958-06-17   M        BL      US       EN        IN  Milwaukee   \n",
       "\n",
       "         state zipcode                        created_at other_language  \\\n",
       "813  Wisconsin   53215  2019-05-28 16:00:52.796599+00:00            NaN   \n",
       "732         WI   53154  2019-04-17 16:27:12.926395+00:00            NaN   \n",
       "588  Wisconsin   53206  2019-01-15 16:29:01.652840+00:00            NaN   \n",
       "174         WI   53215  2018-04-05 19:03:00.351587+00:00            NaN   \n",
       "455         WI   53210  2018-09-22 14:00:46.103952+00:00            NaN   \n",
       "\n",
       "    other_country  \n",
       "813           NaN  \n",
       "732           NaN  \n",
       "588           NaN  \n",
       "174           NaN  \n",
       "455           NaN  "
      ]
     },
     "execution_count": 7,
     "metadata": {},
     "output_type": "execute_result"
    }
   ],
   "source": [
    "patient.sample(5)"
   ]
  },
  {
   "cell_type": "code",
   "execution_count": 8,
   "metadata": {},
   "outputs": [
    {
     "name": "stdout",
     "output_type": "stream",
     "text": [
      "Number of patients with null date of birth: 0\n"
     ]
    }
   ],
   "source": [
    "print(\"Number of patients with null date of birth:\", patient['date_of_birth'].isna().sum())"
   ]
  },
  {
   "cell_type": "code",
   "execution_count": 9,
   "metadata": {},
   "outputs": [],
   "source": [
    "# fixing single error\n",
    "patient.iloc[861]['date_of_birth'] = '1984-07-06'\n",
    "\n",
    "def change_to_age(row):\n",
    "    return (pd.to_datetime('today').year - pd.to_datetime(row['date_of_birth']).year)\n",
    "\n",
    "patient['age'] = patient.apply(lambda row: change_to_age(row), axis=1)"
   ]
  },
  {
   "cell_type": "code",
   "execution_count": 10,
   "metadata": {},
   "outputs": [
    {
     "data": {
      "text/html": [
       "<div>\n",
       "<style scoped>\n",
       "    .dataframe tbody tr th:only-of-type {\n",
       "        vertical-align: middle;\n",
       "    }\n",
       "\n",
       "    .dataframe tbody tr th {\n",
       "        vertical-align: top;\n",
       "    }\n",
       "\n",
       "    .dataframe thead th {\n",
       "        text-align: right;\n",
       "    }\n",
       "</style>\n",
       "<table border=\"1\" class=\"dataframe\">\n",
       "  <thead>\n",
       "    <tr style=\"text-align: right;\">\n",
       "      <th></th>\n",
       "      <th>date_of_birth</th>\n",
       "      <th>sex</th>\n",
       "      <th>ethnicity</th>\n",
       "      <th>country</th>\n",
       "      <th>language</th>\n",
       "      <th>insurance</th>\n",
       "      <th>city</th>\n",
       "      <th>state</th>\n",
       "      <th>zipcode</th>\n",
       "      <th>created_at</th>\n",
       "      <th>other_language</th>\n",
       "      <th>other_country</th>\n",
       "      <th>age</th>\n",
       "    </tr>\n",
       "  </thead>\n",
       "  <tbody>\n",
       "    <tr>\n",
       "      <th>113</th>\n",
       "      <td>1936-04-23</td>\n",
       "      <td>F</td>\n",
       "      <td>BL</td>\n",
       "      <td>US</td>\n",
       "      <td>EN</td>\n",
       "      <td>ME</td>\n",
       "      <td>Milwaukee</td>\n",
       "      <td>WI</td>\n",
       "      <td>53206</td>\n",
       "      <td>2018-03-14 20:14:10.950745+00:00</td>\n",
       "      <td>NaN</td>\n",
       "      <td>NaN</td>\n",
       "      <td>83</td>\n",
       "    </tr>\n",
       "    <tr>\n",
       "      <th>763</th>\n",
       "      <td>1974-09-05</td>\n",
       "      <td>F</td>\n",
       "      <td>HI</td>\n",
       "      <td>ME</td>\n",
       "      <td>SP</td>\n",
       "      <td>NO</td>\n",
       "      <td>Milwaukee</td>\n",
       "      <td>Wisconsin</td>\n",
       "      <td>53215</td>\n",
       "      <td>2019-04-23 17:08:32.054616+00:00</td>\n",
       "      <td>NaN</td>\n",
       "      <td>NaN</td>\n",
       "      <td>45</td>\n",
       "    </tr>\n",
       "    <tr>\n",
       "      <th>766</th>\n",
       "      <td>1967-12-29</td>\n",
       "      <td>F</td>\n",
       "      <td>HI</td>\n",
       "      <td>ME</td>\n",
       "      <td>SP</td>\n",
       "      <td>MD</td>\n",
       "      <td>Milwaukee</td>\n",
       "      <td>Wisconsin</td>\n",
       "      <td>53204</td>\n",
       "      <td>2019-04-23 17:43:34.220954+00:00</td>\n",
       "      <td>NaN</td>\n",
       "      <td>NaN</td>\n",
       "      <td>52</td>\n",
       "    </tr>\n",
       "    <tr>\n",
       "      <th>622</th>\n",
       "      <td>1992-08-01</td>\n",
       "      <td>M</td>\n",
       "      <td>BL</td>\n",
       "      <td>US</td>\n",
       "      <td>EN</td>\n",
       "      <td>PR</td>\n",
       "      <td>Milwaukee</td>\n",
       "      <td>Wisconsin</td>\n",
       "      <td>53228</td>\n",
       "      <td>2019-01-15 20:40:25.869925+00:00</td>\n",
       "      <td>NaN</td>\n",
       "      <td>NaN</td>\n",
       "      <td>27</td>\n",
       "    </tr>\n",
       "    <tr>\n",
       "      <th>775</th>\n",
       "      <td>1970-09-09</td>\n",
       "      <td>F</td>\n",
       "      <td>AS</td>\n",
       "      <td>OT</td>\n",
       "      <td>OT</td>\n",
       "      <td>NO</td>\n",
       "      <td>Milwaukee</td>\n",
       "      <td>WI</td>\n",
       "      <td>53233</td>\n",
       "      <td>2019-04-23 19:57:07.579675+00:00</td>\n",
       "      <td>Burmese</td>\n",
       "      <td>Burma</td>\n",
       "      <td>49</td>\n",
       "    </tr>\n",
       "  </tbody>\n",
       "</table>\n",
       "</div>"
      ],
      "text/plain": [
       "    date_of_birth sex ethnicity country language insurance       city  \\\n",
       "113    1936-04-23   F        BL      US       EN        ME  Milwaukee   \n",
       "763    1974-09-05   F        HI      ME       SP        NO  Milwaukee   \n",
       "766    1967-12-29   F        HI      ME       SP        MD  Milwaukee   \n",
       "622    1992-08-01   M        BL      US       EN        PR  Milwaukee   \n",
       "775    1970-09-09   F        AS      OT       OT        NO  Milwaukee   \n",
       "\n",
       "         state zipcode                        created_at other_language  \\\n",
       "113         WI   53206  2018-03-14 20:14:10.950745+00:00            NaN   \n",
       "763  Wisconsin   53215  2019-04-23 17:08:32.054616+00:00            NaN   \n",
       "766  Wisconsin   53204  2019-04-23 17:43:34.220954+00:00            NaN   \n",
       "622  Wisconsin   53228  2019-01-15 20:40:25.869925+00:00            NaN   \n",
       "775         WI   53233  2019-04-23 19:57:07.579675+00:00        Burmese   \n",
       "\n",
       "    other_country  age  \n",
       "113           NaN   83  \n",
       "763           NaN   45  \n",
       "766           NaN   52  \n",
       "622           NaN   27  \n",
       "775         Burma   49  "
      ]
     },
     "execution_count": 10,
     "metadata": {},
     "output_type": "execute_result"
    }
   ],
   "source": [
    "patient.sample(5)"
   ]
  },
  {
   "cell_type": "code",
   "execution_count": 11,
   "metadata": {},
   "outputs": [],
   "source": [
    "patient = patient.drop(['date_of_birth'], axis=1)"
   ]
  },
  {
   "cell_type": "code",
   "execution_count": 12,
   "metadata": {},
   "outputs": [
    {
     "data": {
      "text/plain": [
       "array([39, 38, 49, 54, 23, 21, 24, 22, 33,  3, 10, 58, 72, 56, 68, 37, 64,\n",
       "       28, 19, 80, 81, 74, 62, 66, 42, 70, 65, 60, 20, 25, 40, 26, 57, 55,\n",
       "       51, 53, 35, 50, 71, 86, 67, 52, 45, 27, 32, 46, 29, 59, 47, 36, 63,\n",
       "       61, 75, 83, 44, 48, 43, 31, 79, 41, 73, 76, 87, 82, 77, 78, 89, 84,\n",
       "       15, 30, 69, 34,  6, 16, 17, 18])"
      ]
     },
     "execution_count": 12,
     "metadata": {},
     "output_type": "execute_result"
    }
   ],
   "source": [
    "patient['age'].unique()"
   ]
  },
  {
   "cell_type": "code",
   "execution_count": 13,
   "metadata": {},
   "outputs": [
    {
     "data": {
      "image/png": "[encoded data removed]",
      "text/plain": [
       "<Figure size 432x288 with 1 Axes>"
      ]
     },
     "metadata": {
      "needs_background": "light"
     },
     "output_type": "display_data"
    }
   ],
   "source": [
    "bin_count = 10\n",
    "bin_width = 10\n",
    "\n",
    "bins = [x*bin_width for x in range(0, bin_count)] # results in 15, 20, ... 85, 90\n",
    "plt.hist(patient['age'], bins=bins, edgecolor=\"k\")\n",
    "plt.xticks(bins)\n",
    "plt.ylim(0, 250)\n",
    "plt.show()"
   ]
  },
  {
   "cell_type": "code",
   "execution_count": 14,
   "metadata": {},
   "outputs": [
    {
     "data": {
      "image/png": "[encoded data removed]",
      "text/plain": [
       "<Figure size 432x288 with 1 Axes>"
      ]
     },
     "metadata": {
      "needs_background": "light"
     },
     "output_type": "display_data"
    }
   ],
   "source": [
    "bin_count = 20\n",
    "bin_width = 5\n",
    "\n",
    "bins = [x*bin_width for x in range(0, bin_count)] # results in 15, 20, ... 85, 90\n",
    "plt.hist(patient['age'], bins=bins, edgecolor=\"k\")\n",
    "plt.xticks(bins)\n",
    "plt.ylim(0, 250)\n",
    "plt.show()"
   ]
  },
  {
   "cell_type": "code",
   "execution_count": 36,
   "metadata": {},
   "outputs": [
    {
     "data": {
      "text/plain": [
       "F    531\n",
       "M    337\n",
       "Name: sex, dtype: int64"
      ]
     },
     "execution_count": 36,
     "metadata": {},
     "output_type": "execute_result"
    }
   ],
   "source": [
    "sex = patient['sex'].value_counts()\n",
    "sex"
   ]
  },
  {
   "cell_type": "code",
   "execution_count": 38,
   "metadata": {},
   "outputs": [
    {
     "data": {
      "text/plain": [
       "<matplotlib.axes._subplots.AxesSubplot at 0x117a4d710>"
      ]
     },
     "execution_count": 38,
     "metadata": {},
     "output_type": "execute_result"
    },
    {
     "data": {
      "image/png": "[encoded data removed]",
      "text/plain": [
       "<Figure size 432x288 with 1 Axes>"
      ]
     },
     "metadata": {
      "needs_background": "light"
     },
     "output_type": "display_data"
    }
   ],
   "source": [
    "sex.plot.barh()"
   ]
  },
  {
   "cell_type": "code",
   "execution_count": 32,
   "metadata": {},
   "outputs": [
    {
     "data": {
      "text/plain": [
       "HI    318\n",
       "BL    245\n",
       "WH    118\n",
       "AS     96\n",
       "OT     15\n",
       "Name: ethnicity, dtype: int64"
      ]
     },
     "execution_count": 32,
     "metadata": {},
     "output_type": "execute_result"
    }
   ],
   "source": [
    "ethnicity = patient['ethnicity'].value_counts()\n",
    "ethnicity"
   ]
  },
  {
   "cell_type": "code",
   "execution_count": 35,
   "metadata": {},
   "outputs": [
    {
     "data": {
      "text/plain": [
       "<matplotlib.axes._subplots.AxesSubplot at 0x1179bbd68>"
      ]
     },
     "execution_count": 35,
     "metadata": {},
     "output_type": "execute_result"
    },
    {
     "data": {
      "image/png": "[encoded data removed]",
      "text/plain": [
       "<Figure size 432x288 with 1 Axes>"
      ]
     },
     "metadata": {
      "needs_background": "light"
     },
     "output_type": "display_data"
    }
   ],
   "source": [
    "ethnicity.plot.barh()"
   ]
  },
  {
   "cell_type": "code",
   "execution_count": 39,
   "metadata": {},
   "outputs": [
    {
     "data": {
      "text/plain": [
       "NO    343\n",
       "PR    224\n",
       "MD    146\n",
       "ME     59\n",
       "IN     52\n",
       "MM     44\n",
       "Name: insurance, dtype: int64"
      ]
     },
     "execution_count": 39,
     "metadata": {},
     "output_type": "execute_result"
    }
   ],
   "source": [
    "insurance = patient['insurance'].value_counts()\n",
    "insurance"
   ]
  },
  {
   "cell_type": "code",
   "execution_count": 40,
   "metadata": {},
   "outputs": [
    {
     "data": {
      "text/plain": [
       "<matplotlib.axes._subplots.AxesSubplot at 0x107c47908>"
      ]
     },
     "execution_count": 40,
     "metadata": {},
     "output_type": "execute_result"
    },
    {
     "data": {
      "image/png": "[encoded data removed]",
      "text/plain": [
       "<Figure size 432x288 with 1 Axes>"
      ]
     },
     "metadata": {
      "needs_background": "light"
     },
     "output_type": "display_data"
    }
   ],
   "source": [
    "insurance.plot.barh()"
   ]
  },
  {
   "cell_type": "code",
   "execution_count": 41,
   "metadata": {},
   "outputs": [],
   "source": [
    "from collections import Counter"
   ]
  },
  {
   "cell_type": "code",
   "execution_count": 42,
   "metadata": {},
   "outputs": [
    {
     "name": "stdout",
     "output_type": "stream",
     "text": [
      "insurance  IN  MD  ME  MM   NO  PR\n",
      "ethnicity                         \n",
      "AS          3  32   2   7   28  24\n",
      "BL         23  62  13  19   55  73\n",
      "HI          6  18   4   8  242  40\n",
      "OT          1   5   1   0    2   6\n",
      "WH         11  13  13   5   12  64\n"
     ]
    }
   ],
   "source": [
    "print(patient.groupby(\"ethnicity\")['insurance'].value_counts().unstack(fill_value=0))"
   ]
  },
  {
   "cell_type": "code",
   "execution_count": 44,
   "metadata": {},
   "outputs": [
    {
     "name": "stdout",
     "output_type": "stream",
     "text": [
      "sex          F    M\n",
      "ethnicity          \n",
      "AS          67   29\n",
      "BL         105  140\n",
      "HI         241   77\n",
      "OT           6    9\n",
      "WH          56   62\n"
     ]
    }
   ],
   "source": [
    "print(patient.groupby(\"ethnicity\")['sex'].value_counts().unstack(fill_value=0))"
   ]
  },
  {
   "cell_type": "code",
   "execution_count": 45,
   "metadata": {},
   "outputs": [
    {
     "name": "stdout",
     "output_type": "stream",
     "text": [
      "sex          F    M\n",
      "insurance          \n",
      "IN          18   34\n",
      "MD          68   78\n",
      "ME          37   22\n",
      "MM          20   24\n",
      "NO         271   72\n",
      "PR         117  107\n"
     ]
    }
   ],
   "source": [
    "print(patient.groupby(\"insurance\")['sex'].value_counts().unstack(fill_value=0))"
   ]
  },
  {
   "cell_type": "code",
   "execution_count": 46,
   "metadata": {},
   "outputs": [
    {
     "data": {
      "text/plain": [
       "(203, 12)"
      ]
     },
     "execution_count": 46,
     "metadata": {},
     "output_type": "execute_result"
    }
   ],
   "source": [
    "patient[(patient['ethnicity'] == 'HI') & (patient['sex'] == 'F') & (patient['insurance'] == 'NO')].shape"
   ]
  },
  {
   "cell_type": "code",
   "execution_count": null,
   "metadata": {},
   "outputs": [],
   "source": []
  },
  {
   "cell_type": "code",
   "execution_count": null,
   "metadata": {},
   "outputs": [],
   "source": []
  },
  {
   "cell_type": "code",
   "execution_count": 29,
   "metadata": {},
   "outputs": [
    {
     "data": {
      "text/plain": [
       "EN    504\n",
       "SP    266\n",
       "OT     85\n",
       "BT     13\n",
       "Name: language, dtype: int64"
      ]
     },
     "execution_count": 29,
     "metadata": {},
     "output_type": "execute_result"
    }
   ],
   "source": [
    "patient['language'].value_counts()"
   ]
  },
  {
   "cell_type": "code",
   "execution_count": 30,
   "metadata": {},
   "outputs": [
    {
     "data": {
      "text/plain": [
       "Hmong                         15\n",
       "Karenni                       13\n",
       "Burmese                        7\n",
       "Karinni                        3\n",
       "Chin                           2\n",
       "French                         2\n",
       "Tamil                          2\n",
       "Vitnamise                      1\n",
       "Karen                          1\n",
       "Serbian                        1\n",
       "Vietnamese                     1\n",
       "Laos (son speaks English)      1\n",
       "Navajo                         1\n",
       "Hmong, Laou, Thai, Enlgish     1\n",
       "Mally                          1\n",
       "Itakha Chin                    1\n",
       "Hmong, Laous, Thai             1\n",
       "Laotian                        1\n",
       "Karin                          1\n",
       "Rohingya                       1\n",
       "vietnamese                     1\n",
       "Name: other_language, dtype: int64"
      ]
     },
     "execution_count": 30,
     "metadata": {},
     "output_type": "execute_result"
    }
   ],
   "source": [
    "patient['other_language'].value_counts()"
   ]
  },
  {
   "cell_type": "code",
   "execution_count": null,
   "metadata": {},
   "outputs": [],
   "source": []
  },
  {
   "cell_type": "code",
   "execution_count": null,
   "metadata": {},
   "outputs": [],
   "source": []
  },
  {
   "cell_type": "code",
   "execution_count": null,
   "metadata": {},
   "outputs": [],
   "source": []
  },
  {
   "cell_type": "markdown",
   "metadata": {},
   "source": [
    "---"
   ]
  },
  {
   "cell_type": "code",
   "execution_count": null,
   "metadata": {},
   "outputs": [],
   "source": [
    "survey = pd.read_csv(\"survey.csv\")"
   ]
  },
  {
   "cell_type": "code",
   "execution_count": null,
   "metadata": {},
   "outputs": [],
   "source": [
    "survey.columns"
   ]
  }
 ],
 "metadata": {
  "kernelspec": {
   "display_name": "Python 3",
   "language": "python",
   "name": "python3"
  },
  "language_info": {
   "codemirror_mode": {
    "name": "ipython",
    "version": 3
   },
   "file_extension": ".py",
   "mimetype": "text/x-python",
   "name": "python",
   "nbconvert_exporter": "python",
   "pygments_lexer": "ipython3",
   "version": "3.5.6"
  }
 },
 "nbformat": 4,
 "nbformat_minor": 2
}
