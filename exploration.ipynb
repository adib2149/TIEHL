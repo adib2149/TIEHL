{
 "cells": [
  {
   "cell_type": "code",
   "execution_count": 1,
   "metadata": {},
   "outputs": [],
   "source": [
    "import numpy as np\n",
    "import pandas as pd"
   ]
  },
  {
   "cell_type": "code",
   "execution_count": 2,
   "metadata": {},
   "outputs": [],
   "source": [
    "patient = pd.read_csv(\"patient.csv\")\n",
    "survey = pd.read_csv(\"survey.csv\")"
   ]
  },
  {
   "cell_type": "code",
   "execution_count": 3,
   "metadata": {},
   "outputs": [
    {
     "data": {
      "text/plain": [
       "Index(['id', 'first_name', 'last_name', 'patient_id', 'old_id',\n",
       "       'date_of_birth', 'sex', 'ethnicity', 'country', 'language', 'insurance',\n",
       "       'address_line_1', 'address_line_2', 'city', 'state', 'zipcode',\n",
       "       'phone_primary', 'phone_secondary', 'email', 'created_at', 'updated_at',\n",
       "       'other_language', 'other_country', 'organization_id'],\n",
       "      dtype='object')"
      ]
     },
     "execution_count": 3,
     "metadata": {},
     "output_type": "execute_result"
    }
   ],
   "source": [
    "patient.columns"
   ]
  },
  {
   "cell_type": "code",
   "execution_count": 4,
   "metadata": {},
   "outputs": [
    {
     "data": {
      "text/plain": [
       "Index(['id', 'screening_site', 'visit_id', 'clinic', 'education', 'occupation',\n",
       "       'last_checkup', 'last_eye_exam', 'acknowledge_diabetes_eye_problems',\n",
       "       'has_eye_problems', 'list_eye_problems', 'hypertension',\n",
       "       'diabetes_tested', 'family_history_diabetes', 'diabetes_knowledge',\n",
       "       'diabetes_type', 'diabetes_timelength', 'diabetes_treatment',\n",
       "       'survey_completed_by', 'referred_by', 'created_at', 'updated_at',\n",
       "       'patient_id', 'language', 'other_eye_problem', 'last_dilated_eye_exam',\n",
       "       'eye_surgery_detail', 'had_eye_surgery', 'photographer_comment',\n",
       "       'other_education'],\n",
       "      dtype='object')"
      ]
     },
     "execution_count": 4,
     "metadata": {},
     "output_type": "execute_result"
    }
   ],
   "source": [
    "survey.columns"
   ]
  },
  {
   "cell_type": "code",
   "execution_count": null,
   "metadata": {},
   "outputs": [],
   "source": []
  }
 ],
 "metadata": {
  "kernelspec": {
   "display_name": "Python 3",
   "language": "python",
   "name": "python3"
  },
  "language_info": {
   "codemirror_mode": {
    "name": "ipython",
    "version": 3
   },
   "file_extension": ".py",
   "mimetype": "text/x-python",
   "name": "python",
   "nbconvert_exporter": "python",
   "pygments_lexer": "ipython3",
   "version": "3.5.6"
  }
 },
 "nbformat": 4,
 "nbformat_minor": 2
}
